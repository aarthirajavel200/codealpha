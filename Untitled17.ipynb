{
 "cells": [
  {
   "cell_type": "code",
   "execution_count": 1,
   "id": "898ebb79-cbd8-4219-b4e3-da90db778a6c",
   "metadata": {},
   "outputs": [
    {
     "name": "stdout",
     "output_type": "stream",
     "text": [
      "Attempts left: 6\n",
      "\n",
      "       ------\n",
      "       |    |\n",
      "       |    \n",
      "       |   \n",
      "       |   \n",
      "       |   \n",
      "    --------\n",
      "    \n",
      "- - - - - - - - - -\n"
     ]
    },
    {
     "name": "stdin",
     "output_type": "stream",
     "text": [
      "Guess a letter:  a\n"
     ]
    },
    {
     "name": "stdout",
     "output_type": "stream",
     "text": [
      "Good job! a is in the word.\n",
      "Attempts left: 6\n",
      "\n",
      "       ------\n",
      "       |    |\n",
      "       |    \n",
      "       |   \n",
      "       |   \n",
      "       |   \n",
      "    --------\n",
      "    \n",
      "- a - a - - - - - -\n"
     ]
    },
    {
     "name": "stdin",
     "output_type": "stream",
     "text": [
      "Guess a letter:  t\n"
     ]
    },
    {
     "name": "stdout",
     "output_type": "stream",
     "text": [
      "Good job! t is in the word.\n",
      "Attempts left: 6\n",
      "\n",
      "       ------\n",
      "       |    |\n",
      "       |    \n",
      "       |   \n",
      "       |   \n",
      "       |   \n",
      "    --------\n",
      "    \n",
      "- a - a - - - - - t\n"
     ]
    },
    {
     "name": "stdin",
     "output_type": "stream",
     "text": [
      "Guess a letter:  o\n"
     ]
    },
    {
     "name": "stdout",
     "output_type": "stream",
     "text": [
      "Oops! o is not in the word. Attempts left: 5\n",
      "Attempts left: 5\n",
      "\n",
      "       ------\n",
      "       |    |\n",
      "       |    O\n",
      "       |   \n",
      "       |   \n",
      "       |   \n",
      "    --------\n",
      "    \n",
      "- a - a - - - - - t\n"
     ]
    },
    {
     "name": "stdin",
     "output_type": "stream",
     "text": [
      "Guess a letter:  h\n"
     ]
    },
    {
     "name": "stdout",
     "output_type": "stream",
     "text": [
      "Oops! h is not in the word. Attempts left: 4\n",
      "Attempts left: 4\n",
      "\n",
      "       ------\n",
      "       |    |\n",
      "       |    O\n",
      "       |    |\n",
      "       |   \n",
      "       |   \n",
      "    --------\n",
      "    \n",
      "- a - a - - - - - t\n"
     ]
    },
    {
     "name": "stdin",
     "output_type": "stream",
     "text": [
      "Guess a letter:  u\n"
     ]
    },
    {
     "name": "stdout",
     "output_type": "stream",
     "text": [
      "Oops! u is not in the word. Attempts left: 3\n",
      "Attempts left: 3\n",
      "\n",
      "       ------\n",
      "       |    |\n",
      "       |    O\n",
      "       |   /|\n",
      "       |   \n",
      "       |   \n",
      "    --------\n",
      "    \n",
      "- a - a - - - - - t\n"
     ]
    },
    {
     "name": "stdin",
     "output_type": "stream",
     "text": [
      "Guess a letter:  g\n"
     ]
    },
    {
     "name": "stdout",
     "output_type": "stream",
     "text": [
      "Oops! g is not in the word. Attempts left: 2\n",
      "Attempts left: 2\n",
      "\n",
      "       ------\n",
      "       |    |\n",
      "       |    O\n",
      "       |   /|\\\n",
      "       |   \n",
      "       |   \n",
      "    --------\n",
      "    \n",
      "- a - a - - - - - t\n"
     ]
    },
    {
     "name": "stdin",
     "output_type": "stream",
     "text": [
      "Guess a letter:  k\n"
     ]
    },
    {
     "name": "stdout",
     "output_type": "stream",
     "text": [
      "Oops! k is not in the word. Attempts left: 1\n",
      "Attempts left: 1\n",
      "\n",
      "       ------\n",
      "       |    |\n",
      "       |    O\n",
      "       |   /|\\\n",
      "       |   / \n",
      "       |   \n",
      "    --------\n",
      "    \n",
      "- a - a - - - - - t\n"
     ]
    },
    {
     "name": "stdin",
     "output_type": "stream",
     "text": [
      "Guess a letter:  a\n"
     ]
    },
    {
     "name": "stdout",
     "output_type": "stream",
     "text": [
      "Hooray! You have already guessed that letter.\n",
      "Attempts left: 1\n",
      "\n",
      "       ------\n",
      "       |    |\n",
      "       |    O\n",
      "       |   /|\\\n",
      "       |   / \n",
      "       |   \n",
      "    --------\n",
      "    \n",
      "- a - a - - - - - t\n"
     ]
    },
    {
     "name": "stdin",
     "output_type": "stream",
     "text": [
      "Guess a letter:  d\n"
     ]
    },
    {
     "name": "stdout",
     "output_type": "stream",
     "text": [
      "Oops! d is not in the word. Attempts left: 0\n",
      "\n",
      "       ------\n",
      "       |    |\n",
      "       |    O\n",
      "       |   /|\\\n",
      "       |   / \\\n",
      "       |   \n",
      "    --------\n",
      "    \n",
      "Game over! The word was: javascript\n"
     ]
    }
   ],
   "source": [
    "import random\n",
    "\n",
    "# List of words\n",
    "words = ['balloon', 'javascript', 'python', 'computer']\n",
    "wor = random.choice(words)       # Randomly select a word\n",
    "word_guessed = set(wor)          # Set of unique letters in the selected word\n",
    "guessed_letters = set()          # To store guessed letters\n",
    "attempts = 6                     # Number of attempts\n",
    "\n",
    "# Hangman stages for different attempt levels\n",
    "hangman_stages = [\n",
    "    \"\"\"\n",
    "       ------\n",
    "       |    |\n",
    "       |    \n",
    "       |   \n",
    "       |   \n",
    "       |   \n",
    "    --------\n",
    "    \"\"\",\n",
    "    \"\"\"\n",
    "       ------\n",
    "       |    |\n",
    "       |    O\n",
    "       |   \n",
    "       |   \n",
    "       |   \n",
    "    --------\n",
    "    \"\"\",\n",
    "    \"\"\"\n",
    "       ------\n",
    "       |    |\n",
    "       |    O\n",
    "       |    |\n",
    "       |   \n",
    "       |   \n",
    "    --------\n",
    "    \"\"\",\n",
    "    \"\"\"\n",
    "       ------\n",
    "       |    |\n",
    "       |    O\n",
    "       |   /|\n",
    "       |   \n",
    "       |   \n",
    "    --------\n",
    "    \"\"\",\n",
    "    \"\"\"\n",
    "       ------\n",
    "       |    |\n",
    "       |    O\n",
    "       |   /|\\\\\n",
    "       |   \n",
    "       |   \n",
    "    --------\n",
    "    \"\"\",\n",
    "    \"\"\"\n",
    "       ------\n",
    "       |    |\n",
    "       |    O\n",
    "       |   /|\\\\\n",
    "       |   / \n",
    "       |   \n",
    "    --------\n",
    "    \"\"\",\n",
    "    \"\"\"\n",
    "       ------\n",
    "       |    |\n",
    "       |    O\n",
    "       |   /|\\\\\n",
    "       |   / \\\\\n",
    "       |   \n",
    "    --------\n",
    "    \"\"\"\n",
    "]\n",
    "\n",
    "def hangman():\n",
    "    global attempts\n",
    "    while attempts > 0 and word_guessed != guessed_letters:\n",
    "        print(f\"Attempts left: {attempts}\")\n",
    "        print(hangman_stages[6 - attempts])  # Display the current hangman figure\n",
    "        \n",
    "        # Display the word with guessed letters or '-' for unguessed letters\n",
    "        display_letters = [letter if letter in guessed_letters else '-' for letter in wor]\n",
    "        print(' '.join(display_letters))\n",
    "        \n",
    "        # Input guess from the user\n",
    "        guess = input(\"Guess a letter: \").lower()\n",
    "\n",
    "        if guess in guessed_letters:\n",
    "            print(\"Hooray! You have already guessed that letter.\")\n",
    "        elif guess in word_guessed:\n",
    "            guessed_letters.add(guess)\n",
    "            print(f\"Good job! {guess} is in the word.\")\n",
    "        else:\n",
    "            attempts -= 1\n",
    "            print(f\"Oops! {guess} is not in the word. Attempts left: {attempts}\")\n",
    "\n",
    "        # Check if all letters have been guessed\n",
    "        if guessed_letters == word_guessed:\n",
    "            print(f\"Congrats! You guessed the correct word: {wor}\")\n",
    "            break\n",
    "    else:\n",
    "        # If attempts are exhausted\n",
    "        print(hangman_stages[6])  # Show the final hangman\n",
    "        print(f\"Game over! The word was: {wor}\")\n",
    "\n",
    "# Run the game\n",
    "hangman()\n"
   ]
  },
  {
   "cell_type": "code",
   "execution_count": null,
   "id": "f280e14b-89e3-42f8-870e-d429c5d72e5b",
   "metadata": {},
   "outputs": [],
   "source": []
  }
 ],
 "metadata": {
  "kernelspec": {
   "display_name": "Python 3 (ipykernel)",
   "language": "python",
   "name": "python3"
  },
  "language_info": {
   "codemirror_mode": {
    "name": "ipython",
    "version": 3
   },
   "file_extension": ".py",
   "mimetype": "text/x-python",
   "name": "python",
   "nbconvert_exporter": "python",
   "pygments_lexer": "ipython3",
   "version": "3.11.7"
  }
 },
 "nbformat": 4,
 "nbformat_minor": 5
}
