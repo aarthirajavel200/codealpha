{
 "cells": [
  {
   "cell_type": "code",
   "execution_count": 6,
   "id": "c537f4f6-cec0-47f8-8a81-bb72c469ee02",
   "metadata": {},
   "outputs": [
    {
     "name": "stdout",
     "output_type": "stream",
     "text": [
      "Defaulting to user installation because normal site-packages is not writeable\n",
      "Requirement already satisfied: yfinance in c:\\users\\admin\\appdata\\roaming\\python\\python311\\site-packages (0.2.44)\n",
      "Requirement already satisfied: pandas in c:\\programdata\\anaconda3\\lib\\site-packages (2.1.4)\n",
      "Requirement already satisfied: numpy>=1.16.5 in c:\\programdata\\anaconda3\\lib\\site-packages (from yfinance) (1.26.4)\n",
      "Requirement already satisfied: requests>=2.31 in c:\\programdata\\anaconda3\\lib\\site-packages (from yfinance) (2.31.0)\n",
      "Requirement already satisfied: multitasking>=0.0.7 in c:\\users\\admin\\appdata\\roaming\\python\\python311\\site-packages (from yfinance) (0.0.11)\n",
      "Requirement already satisfied: lxml>=4.9.1 in c:\\programdata\\anaconda3\\lib\\site-packages (from yfinance) (4.9.3)\n",
      "Requirement already satisfied: platformdirs>=2.0.0 in c:\\programdata\\anaconda3\\lib\\site-packages (from yfinance) (3.10.0)\n",
      "Requirement already satisfied: pytz>=2022.5 in c:\\programdata\\anaconda3\\lib\\site-packages (from yfinance) (2023.3.post1)\n",
      "Requirement already satisfied: frozendict>=2.3.4 in c:\\users\\admin\\appdata\\roaming\\python\\python311\\site-packages (from yfinance) (2.4.6)\n",
      "Requirement already satisfied: peewee>=3.16.2 in c:\\users\\admin\\appdata\\roaming\\python\\python311\\site-packages (from yfinance) (3.17.7)\n",
      "Requirement already satisfied: beautifulsoup4>=4.11.1 in c:\\programdata\\anaconda3\\lib\\site-packages (from yfinance) (4.12.2)\n",
      "Requirement already satisfied: html5lib>=1.1 in c:\\users\\admin\\appdata\\roaming\\python\\python311\\site-packages (from yfinance) (1.1)\n",
      "Requirement already satisfied: python-dateutil>=2.8.2 in c:\\programdata\\anaconda3\\lib\\site-packages (from pandas) (2.8.2)\n",
      "Requirement already satisfied: tzdata>=2022.1 in c:\\programdata\\anaconda3\\lib\\site-packages (from pandas) (2023.3)\n",
      "Requirement already satisfied: soupsieve>1.2 in c:\\programdata\\anaconda3\\lib\\site-packages (from beautifulsoup4>=4.11.1->yfinance) (2.5)\n",
      "Requirement already satisfied: six>=1.9 in c:\\programdata\\anaconda3\\lib\\site-packages (from html5lib>=1.1->yfinance) (1.16.0)\n",
      "Requirement already satisfied: webencodings in c:\\programdata\\anaconda3\\lib\\site-packages (from html5lib>=1.1->yfinance) (0.5.1)\n",
      "Requirement already satisfied: charset-normalizer<4,>=2 in c:\\programdata\\anaconda3\\lib\\site-packages (from requests>=2.31->yfinance) (2.0.4)\n",
      "Requirement already satisfied: idna<4,>=2.5 in c:\\programdata\\anaconda3\\lib\\site-packages (from requests>=2.31->yfinance) (3.4)\n",
      "Requirement already satisfied: urllib3<3,>=1.21.1 in c:\\programdata\\anaconda3\\lib\\site-packages (from requests>=2.31->yfinance) (2.0.7)\n",
      "Requirement already satisfied: certifi>=2017.4.17 in c:\\programdata\\anaconda3\\lib\\site-packages (from requests>=2.31->yfinance) (2024.2.2)\n",
      "Note: you may need to restart the kernel to use updated packages.\n"
     ]
    }
   ],
   "source": [
    "pip install yfinance pandas\n"
   ]
  },
  {
   "cell_type": "code",
   "execution_count": 7,
   "id": "7ebb8b1b-b152-49b4-a114-20e4f9e612ef",
   "metadata": {},
   "outputs": [
    {
     "name": "stdout",
     "output_type": "stream",
     "text": [
      "\n",
      "Stock Portfolio Tracker\n",
      "1. Add Stock\n",
      "2. Remove Stock\n",
      "3. View Portfolio\n",
      "4. Exit\n"
     ]
    },
    {
     "name": "stdin",
     "output_type": "stream",
     "text": [
      "Enter your choice (1-4):  1\n",
      "Enter stock symbol (e.g., AAPL):  AAPL\n",
      "Enter quantity:  1\n"
     ]
    },
    {
     "name": "stdout",
     "output_type": "stream",
     "text": [
      "Added 1 of AAPL to the portfolio.\n",
      "\n",
      "Stock Portfolio Tracker\n",
      "1. Add Stock\n",
      "2. Remove Stock\n",
      "3. View Portfolio\n",
      "4. Exit\n"
     ]
    },
    {
     "name": "stdin",
     "output_type": "stream",
     "text": [
      "Enter your choice (1-4):  2\n",
      "Enter stock symbol (e.g., AAPL):  AAPL\n",
      "Enter quantity to remove:  1\n"
     ]
    },
    {
     "name": "stdout",
     "output_type": "stream",
     "text": [
      "Removed 1 of AAPL from the portfolio.\n",
      "\n",
      "Stock Portfolio Tracker\n",
      "1. Add Stock\n",
      "2. Remove Stock\n",
      "3. View Portfolio\n",
      "4. Exit\n"
     ]
    },
    {
     "name": "stdin",
     "output_type": "stream",
     "text": [
      "Enter your choice (1-4):  3\n"
     ]
    },
    {
     "name": "stdout",
     "output_type": "stream",
     "text": [
      "Your portfolio is empty.\n",
      "\n",
      "Stock Portfolio Tracker\n",
      "1. Add Stock\n",
      "2. Remove Stock\n",
      "3. View Portfolio\n",
      "4. Exit\n"
     ]
    },
    {
     "name": "stdin",
     "output_type": "stream",
     "text": [
      "Enter your choice (1-4):  4\n"
     ]
    },
    {
     "name": "stdout",
     "output_type": "stream",
     "text": [
      "Exiting the tracker. Goodbye!\n"
     ]
    }
   ],
   "source": [
    "import yfinance as yf\n",
    "import pandas as pd\n",
    "\n",
    "# Initialize an empty portfolio (A dictionary to store stocks)\n",
    "portfolio = {}\n",
    "\n",
    "# Function to add stocks to the portfolio\n",
    "def add_stock(symbol, quantity):\n",
    "    if symbol in portfolio:\n",
    "        portfolio[symbol] += quantity\n",
    "    else:\n",
    "        portfolio[symbol] = quantity\n",
    "    print(f\"Added {quantity} of {symbol} to the portfolio.\")\n",
    "\n",
    "# Function to remove stocks from the portfolio\n",
    "def remove_stock(symbol, quantity):\n",
    "    if symbol in portfolio and portfolio[symbol] >= quantity:\n",
    "        portfolio[symbol] -= quantity\n",
    "        if portfolio[symbol] == 0:\n",
    "            del portfolio[symbol]\n",
    "        print(f\"Removed {quantity} of {symbol} from the portfolio.\")\n",
    "    else:\n",
    "        print(f\"Cannot remove {quantity} of {symbol}. Stock not found or insufficient quantity.\")\n",
    "\n",
    "# Function to fetch stock prices\n",
    "def fetch_stock_data(symbols):\n",
    "    data = yf.download(symbols, period='1d')\n",
    "    return data['Adj Close'].iloc[0]\n",
    "\n",
    "# Function to view portfolio and calculate total value\n",
    "def view_portfolio():\n",
    "    if not portfolio:\n",
    "        print(\"Your portfolio is empty.\")\n",
    "        return\n",
    "\n",
    "    symbols = list(portfolio.keys())\n",
    "    prices = fetch_stock_data(symbols)\n",
    "    \n",
    "    # Convert to pandas DataFrame for better visualization\n",
    "    portfolio_df = pd.DataFrame({\n",
    "        'Stock': symbols,\n",
    "        'Quantity': [portfolio[symbol] for symbol in symbols],\n",
    "        'Price': [prices[symbol] for symbol in symbols],\n",
    "        'Total Value': [portfolio[symbol] * prices[symbol] for symbol in symbols]\n",
    "    })\n",
    "\n",
    "    print(portfolio_df)\n",
    "    print(f\"\\nTotal Portfolio Value: ${portfolio_df['Total Value'].sum():.2f}\")\n",
    "\n",
    "# Main program loop\n",
    "def main():\n",
    "    while True:\n",
    "        print(\"\\nStock Portfolio Tracker\")\n",
    "        print(\"1. Add Stock\")\n",
    "        print(\"2. Remove Stock\")\n",
    "        print(\"3. View Portfolio\")\n",
    "        print(\"4. Exit\")\n",
    "\n",
    "        choice = input(\"Enter your choice (1-4): \")\n",
    "\n",
    "        if choice == '1':\n",
    "            symbol = input(\"Enter stock symbol (e.g., AAPL): \").upper()\n",
    "            quantity = int(input(\"Enter quantity: \"))\n",
    "            add_stock(symbol, quantity)\n",
    "        elif choice == '2':\n",
    "            symbol = input(\"Enter stock symbol (e.g., AAPL): \").upper()\n",
    "            quantity = int(input(\"Enter quantity to remove: \"))\n",
    "            remove_stock(symbol, quantity)\n",
    "        elif choice == '3':\n",
    "            view_portfolio()\n",
    "        elif choice == '4':\n",
    "            print(\"Exiting the tracker. Goodbye!\")\n",
    "            break\n",
    "        else:\n",
    "            print(\"Invalid choice. Please try again.\")\n",
    "\n",
    "if __name__ == \"__main__\":\n",
    "    main()\n"
   ]
  },
  {
   "cell_type": "code",
   "execution_count": null,
   "id": "bbc55a27-b384-48ae-a1c1-8335dd2073d1",
   "metadata": {},
   "outputs": [],
   "source": []
  }
 ],
 "metadata": {
  "kernelspec": {
   "display_name": "Python 3 (ipykernel)",
   "language": "python",
   "name": "python3"
  },
  "language_info": {
   "codemirror_mode": {
    "name": "ipython",
    "version": 3
   },
   "file_extension": ".py",
   "mimetype": "text/x-python",
   "name": "python",
   "nbconvert_exporter": "python",
   "pygments_lexer": "ipython3",
   "version": "3.11.7"
  }
 },
 "nbformat": 4,
 "nbformat_minor": 5
}
