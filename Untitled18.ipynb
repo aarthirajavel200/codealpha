{
 "cells": [
  {
   "cell_type": "code",
   "execution_count": null,
   "id": "0b1dcbe0-037f-429d-803e-c5115aaa0394",
   "metadata": {},
   "outputs": [],
   "source": []
  },
  {
   "cell_type": "code",
   "execution_count": 5,
   "id": "602c142d-06bf-4541-a3d4-d91dec69a8b6",
   "metadata": {},
   "outputs": [
    {
     "name": "stderr",
     "output_type": "stream",
     "text": [
      "[nltk_data] Downloading package punkt to\n",
      "[nltk_data]     C:\\Users\\ADMIN\\AppData\\Roaming\\nltk_data...\n",
      "[nltk_data]   Package punkt is already up-to-date!\n",
      "[nltk_data] Downloading package stopwords to\n",
      "[nltk_data]     C:\\Users\\ADMIN\\AppData\\Roaming\\nltk_data...\n",
      "[nltk_data]   Package stopwords is already up-to-date!\n"
     ]
    },
    {
     "name": "stdout",
     "output_type": "stream",
     "text": [
      "Chatbot: Hi! Type 'bye' to exit.\n"
     ]
    },
    {
     "name": "stdin",
     "output_type": "stream",
     "text": [
      "You:  what is your name\n"
     ]
    },
    {
     "name": "stdout",
     "output_type": "stream",
     "text": [
      "Chatbot: My name is Chatbot.\n"
     ]
    },
    {
     "name": "stdin",
     "output_type": "stream",
     "text": [
      "You:  \n"
     ]
    },
    {
     "name": "stdout",
     "output_type": "stream",
     "text": [
      "Chatbot: I am not sure I get what you're saying.\n"
     ]
    },
    {
     "name": "stdin",
     "output_type": "stream",
     "text": [
      "You:  hello!\n"
     ]
    },
    {
     "name": "stdout",
     "output_type": "stream",
     "text": [
      "Chatbot: Hi there!\n"
     ]
    },
    {
     "name": "stdin",
     "output_type": "stream",
     "text": [
      "You:  how are yo\n"
     ]
    },
    {
     "name": "stdout",
     "output_type": "stream",
     "text": [
      "Chatbot: Sorry, I didn't understand that. Could you rephrase?\n"
     ]
    },
    {
     "name": "stdin",
     "output_type": "stream",
     "text": [
      "You:  how are you\n"
     ]
    },
    {
     "name": "stdout",
     "output_type": "stream",
     "text": [
      "Chatbot: I am fine, what about you?\n"
     ]
    },
    {
     "name": "stdin",
     "output_type": "stream",
     "text": [
      "You:  fine\n"
     ]
    },
    {
     "name": "stdout",
     "output_type": "stream",
     "text": [
      "Chatbot: It's nice to hear!\n"
     ]
    },
    {
     "name": "stdin",
     "output_type": "stream",
     "text": [
      "You:  welcome\n"
     ]
    },
    {
     "name": "stdout",
     "output_type": "stream",
     "text": [
      "Chatbot: Sorry, I didn't understand that. Could you rephrase?\n"
     ]
    },
    {
     "name": "stdin",
     "output_type": "stream",
     "text": [
      "You:  bye\n"
     ]
    },
    {
     "name": "stdout",
     "output_type": "stream",
     "text": [
      "Chatbot: See you later!\n"
     ]
    }
   ],
   "source": [
    "import nltk\n",
    "from nltk.stem import PorterStemmer\n",
    "from nltk.tokenize import word_tokenize\n",
    "from nltk.corpus import stopwords\n",
    "import random\n",
    "import string\n",
    "\n",
    "# Download necessary NLTK data\n",
    "nltk.download('punkt')\n",
    "nltk.download('stopwords')\n",
    "\n",
    "# Initialize stemmer and stop words\n",
    "stemmer = PorterStemmer()\n",
    "stop_words = set(stopwords.words('english'))\n",
    "\n",
    "# Sample responses for the chatbot\n",
    "responses = {\n",
    "    \"hello\": [\"Hi there!\", \"Hello!\", \"How can I assist you today?\"],\n",
    "    \"bye\": [\"Goodbye!\", \"See you later!\", \"Take care!\"],\n",
    "    \"thank you\": [\"You're welcome!\", \"No problem!\", \"Glad to help!\"],\n",
    "    \"what is your name\": [\"My name is Chatbot.\"],\n",
    "    \"how are you\": [\"I am fine, what about you?\"],\n",
    "    \"fine\": [\"It's nice to hear!\"],\n",
    "    \"default\": [\"Sorry, I didn't understand that. Could you rephrase?\", \"I am not sure I get what you're saying.\"]\n",
    "}\n",
    "\n",
    "# Function to process input\n",
    "def preprocess(sentence):\n",
    "    # Tokenize words\n",
    "    words = word_tokenize(sentence.lower())\n",
    "    # Stem words and remove stopwords\n",
    "    filtered_words = [stemmer.stem(w) for w in words if w not in stop_words and w not in string.punctuation]\n",
    "    return filtered_words\n",
    "\n",
    "# Function to get response\n",
    "def get_response(user_input):\n",
    "    user_input = user_input.lower()\n",
    "    \n",
    "    # First, check for exact phrase matches in responses\n",
    "    if user_input in responses:\n",
    "        return random.choice(responses[user_input])\n",
    "    \n",
    "    # If no exact match, fall back to token-based matching\n",
    "    tokens = preprocess(user_input)\n",
    "    for word in tokens:\n",
    "        if word in responses:\n",
    "            return random.choice(responses[word])\n",
    "    \n",
    "    # Default response if nothing matches\n",
    "    return random.choice(responses['default'])\n",
    "\n",
    "# Simple Chatbot interaction\n",
    "def chatbot():\n",
    "    print(\"Chatbot: Hi! Type 'bye' to exit.\")\n",
    "    while True:\n",
    "        user_input = input(\"You: \")\n",
    "        if \"bye\" in user_input.lower():\n",
    "            print(\"Chatbot: \" + random.choice(responses['bye']))\n",
    "            break\n",
    "        print(\"Chatbot: \" + get_response(user_input))\n",
    "\n",
    "# Start the chatbot\n",
    "if __name__ == \"__main__\":\n",
    "    chatbot()\n"
   ]
  },
  {
   "cell_type": "code",
   "execution_count": null,
   "id": "c301198b-c020-40c1-8544-f452f9ac2a51",
   "metadata": {},
   "outputs": [],
   "source": []
  },
  {
   "cell_type": "code",
   "execution_count": null,
   "id": "d5dbe9bd-d175-4c82-9048-b62e7973da83",
   "metadata": {},
   "outputs": [],
   "source": [
    "\n"
   ]
  }
 ],
 "metadata": {
  "kernelspec": {
   "display_name": "Python 3 (ipykernel)",
   "language": "python",
   "name": "python3"
  },
  "language_info": {
   "codemirror_mode": {
    "name": "ipython",
    "version": 3
   },
   "file_extension": ".py",
   "mimetype": "text/x-python",
   "name": "python",
   "nbconvert_exporter": "python",
   "pygments_lexer": "ipython3",
   "version": "3.11.7"
  }
 },
 "nbformat": 4,
 "nbformat_minor": 5
}
